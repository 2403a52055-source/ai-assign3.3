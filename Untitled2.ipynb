{
  "nbformat": 4,
  "nbformat_minor": 0,
  "metadata": {
    "colab": {
      "provenance": [],
      "authorship_tag": "ABX9TyPECsstlQUfBSEwU+bmfiFW",
      "include_colab_link": true
    },
    "kernelspec": {
      "name": "python3",
      "display_name": "Python 3"
    },
    "language_info": {
      "name": "python"
    }
  },
  "cells": [
    {
      "cell_type": "markdown",
      "metadata": {
        "id": "view-in-github",
        "colab_type": "text"
      },
      "source": [
        "<a href=\"https://colab.research.google.com/github/2403a52055-source/ai-assign3.3/blob/main/Untitled2.ipynb\" target=\"_parent\"><img src=\"https://colab.research.google.com/assets/colab-badge.svg\" alt=\"Open In Colab\"/></a>"
      ]
    },
    {
      "cell_type": "code",
      "execution_count": null,
      "metadata": {
        "id": "smbPMZ1k2ehy"
      },
      "outputs": [],
      "source": [
        "● Zero-shot: Prompt AI to write a function that checks whether a given year is a leap\n",
        "year"
      ]
    },
    {
      "cell_type": "code",
      "metadata": {
        "colab": {
          "base_uri": "https://localhost:8080/"
        },
        "id": "67ea41e3",
        "outputId": "24ab744e-e44b-4fba-b11d-01dec0f319ae"
      },
      "source": [
        "# Zero-shot: Prompt AI to write a function that checks whether a given year is a leap year\n",
        "def is_leap_year(year):\n",
        "  \"\"\"Checks if a given year is a leap year.\n",
        "\n",
        "  Args:\n",
        "    year: The year to check.\n",
        "\n",
        "  Returns:\n",
        "    True if the year is a leap year, False otherwise.\n",
        "  \"\"\"\n",
        "  return (year % 4 == 0 and year % 100 != 0) or (year % 400 == 0)\n",
        "\n",
        "# Example usage\n",
        "print(f\"Is 2000 a leap year? {is_leap_year(2000)}\")\n",
        "print(f\"Is 1900 a leap year? {is_leap_year(1900)}\")\n",
        "print(f\"Is 2024 a leap year? {is_leap_year(2024)}\")"
      ],
      "execution_count": 1,
      "outputs": [
        {
          "output_type": "stream",
          "name": "stdout",
          "text": [
            "Is 2000 a leap year? True\n",
            "Is 1900 a leap year? False\n",
            "Is 2024 a leap year? True\n"
          ]
        }
      ]
    },
    {
      "cell_type": "markdown",
      "metadata": {
        "id": "494f30e8"
      },
      "source": [
        "The code defines a function `is_leap_year` that takes a year as input and returns `True` if it's a leap year and `False` otherwise.\n",
        "\n",
        "Here's how the logic works:\n",
        "\n",
        "*   A year is a leap year if it is divisible by 4, **unless** it is divisible by 100 but **not** by 400.\n",
        "*   The expression `(year % 4 == 0 and year % 100 != 0)` checks if the year is divisible by 4 but not by 100.\n",
        "*   The expression `(year % 400 == 0)` checks if the year is divisible by 400.\n",
        "*   The `or` operator combines these conditions: if either of them is true, the year is a leap year."
      ]
    },
    {
      "cell_type": "code",
      "source": [
        "One-shot: Give one input-output example to guide AI in writing a function that\n",
        "converts centimeters to inches"
      ],
      "metadata": {
        "id": "4sTlMaeF2z6l"
      },
      "execution_count": null,
      "outputs": []
    },
    {
      "cell_type": "code",
      "metadata": {
        "colab": {
          "base_uri": "https://localhost:8080/"
        },
        "id": "e4d0c996",
        "outputId": "13033d92-8d5c-4a15-abdb-93a2ab8d7ca9"
      },
      "source": [
        "# One-shot: Give one input-output example to guide AI in writing a function that\n",
        "# converts centimeters to inches\n",
        "# Example: 10 centimeters is equal to 3.937 inches\n",
        "\n",
        "def cm_to_inches(cm):\n",
        "  \"\"\"Converts centimeters to inches.\n",
        "\n",
        "  Args:\n",
        "    cm: The length in centimeters.\n",
        "\n",
        "  Returns:\n",
        "    The length in inches.\n",
        "  \"\"\"\n",
        "  return cm * 0.393701\n",
        "\n",
        "# Example usage\n",
        "print(f\"10 centimeters is equal to {cm_to_inches(10)} inches\")"
      ],
      "execution_count": 2,
      "outputs": [
        {
          "output_type": "stream",
          "name": "stdout",
          "text": [
            "10 centimeters is equal to 3.9370100000000003 inches\n"
          ]
        }
      ]
    },
    {
      "cell_type": "markdown",
      "metadata": {
        "id": "3d62895f"
      },
      "source": [
        "The code defines a function `cm_to_inches` that takes a length in centimeters as input and returns the equivalent length in inches.\n",
        "\n",
        "Here's how the logic works:\n",
        "\n",
        "*   The function uses the conversion factor 0.393701 to convert centimeters to inches (1 inch = 2.54 centimeters, so 1 centimeter = 1 / 2.54 inches ≈ 0.393701 inches).\n",
        "*   The input `cm` is multiplied by this conversion factor to get the result in inches."
      ]
    },
    {
      "cell_type": "code",
      "source": [
        "Few-shot: Provide 2–3 examples to generate a function that formats full names as\n",
        "“Last, First”"
      ],
      "metadata": {
        "id": "PGhC9iRT3SEc"
      },
      "execution_count": null,
      "outputs": []
    },
    {
      "cell_type": "code",
      "metadata": {
        "colab": {
          "base_uri": "https://localhost:8080/"
        },
        "id": "ce82d53b",
        "outputId": "71a5554e-3cbd-4f42-f181-5e80c2dd4b69"
      },
      "source": [
        "# Few-shot: Provide 2–3 examples to generate a function that formats full names as\n",
        "# “Last, First”\n",
        "# Example 1: \"John Doe\" -> \"Doe, John\"\n",
        "# Example 2: \"Jane Smith\" -> \"Smith, Jane\"\n",
        "\n",
        "def format_name(full_name):\n",
        "  \"\"\"Formats a full name as 'Last, First'.\n",
        "\n",
        "  Args:\n",
        "    full_name: The full name (e.g., \"John Doe\").\n",
        "\n",
        "  Returns:\n",
        "    The name formatted as \"Last, First\" (e.g., \"Doe, John\").\n",
        "  \"\"\"\n",
        "  parts = full_name.split()\n",
        "  if len(parts) > 1:\n",
        "    return f\"{parts[-1]}, {' '.join(parts[:-1])}\"\n",
        "  else:\n",
        "    return full_name # Return as is if only one part\n",
        "\n",
        "# Example usage\n",
        "print(f\"Formatted name: {format_name('John Doe')}\")\n",
        "print(f\"Formatted name: {format_name('Jane Smith')}\")\n",
        "print(f\"Formatted name: {format_name('Peter Jones')}\")"
      ],
      "execution_count": 3,
      "outputs": [
        {
          "output_type": "stream",
          "name": "stdout",
          "text": [
            "Formatted name: Doe, John\n",
            "Formatted name: Smith, Jane\n",
            "Formatted name: Jones, Peter\n"
          ]
        }
      ]
    },
    {
      "cell_type": "markdown",
      "metadata": {
        "id": "1f8c77da"
      },
      "source": [
        "The code defines a function `format_name` that takes a full name as input and returns the name formatted as \"Last, First\".\n",
        "\n",
        "Here's how the logic works:\n",
        "\n",
        "*   The function splits the `full_name` string into a list of `parts` using spaces as delimiters.\n",
        "*   It checks if there is more than one part in the name.\n",
        "*   If there is more than one part, it takes the last part (`parts[-1]`) as the last name and the remaining parts (`parts[:-1]`) joined by a space as the first name(s). It then formats them as \"Last, First\".\n",
        "*   If there is only one part (e.g., a single name), it returns the name as is."
      ]
    },
    {
      "cell_type": "code",
      "source": [
        "Compare zero-shot and few-shot prompts for writing a function that counts the\n",
        "number of vowels in a string"
      ],
      "metadata": {
        "id": "XyFnaxzy3qnG"
      },
      "execution_count": null,
      "outputs": []
    },
    {
      "cell_type": "code",
      "metadata": {
        "colab": {
          "base_uri": "https://localhost:8080/"
        },
        "id": "d64e43c9",
        "outputId": "c6fd23c9-832e-4814-f953-0aa9856dd95f"
      },
      "source": [
        "# Zero-shot: Prompt AI to write a function that counts the number of vowels in a string\n",
        "def count_vowels_zero_shot(text):\n",
        "  \"\"\"Counts the number of vowels in a string using a zero-shot approach.\"\"\"\n",
        "  vowels = \"aeiouAEIOU\"\n",
        "  count = 0\n",
        "  for char in text:\n",
        "    if char in vowels:\n",
        "      count += 1\n",
        "  return count\n",
        "\n",
        "# Example usage\n",
        "print(f\"Zero-shot count of vowels in 'Hello World': {count_vowels_zero_shot('Hello World')}\")\n",
        "print(f\"Zero-shot count of vowels in 'Programming is fun': {count_vowels_zero_shot('Programming is fun')}\")"
      ],
      "execution_count": 4,
      "outputs": [
        {
          "output_type": "stream",
          "name": "stdout",
          "text": [
            "Zero-shot count of vowels in 'Hello World': 3\n",
            "Zero-shot count of vowels in 'Programming is fun': 5\n"
          ]
        }
      ]
    },
    {
      "cell_type": "code",
      "metadata": {
        "colab": {
          "base_uri": "https://localhost:8080/"
        },
        "id": "162386a6",
        "outputId": "8b41fca7-ba26-42d8-de40-50868f805094"
      },
      "source": [
        "# Few-shot: Provide 2–3 examples to generate a function that counts the number of vowels in a string\n",
        "# Example 1: \"Hello\" -> 2\n",
        "# Example 2: \"Python\" -> 1\n",
        "# Example 3: \"AEIOU\" -> 5\n",
        "\n",
        "def count_vowels_few_shot(text):\n",
        "  \"\"\"Counts the number of vowels in a string using a few-shot approach.\"\"\"\n",
        "  vowels = \"aeiouAEIOU\"\n",
        "  count = 0\n",
        "  for char in text:\n",
        "    if char in vowels:\n",
        "      count += 1\n",
        "  return count\n",
        "\n",
        "# Example usage\n",
        "print(f\"Few-shot count of vowels in 'Hello World': {count_vowels_few_shot('Hello World')}\")\n",
        "print(f\"Few-shot count of vowels in 'Programming is fun': {count_vowels_few_shot('Programming is fun')}\")"
      ],
      "execution_count": 5,
      "outputs": [
        {
          "output_type": "stream",
          "name": "stdout",
          "text": [
            "Few-shot count of vowels in 'Hello World': 3\n",
            "Few-shot count of vowels in 'Programming is fun': 5\n"
          ]
        }
      ]
    },
    {
      "cell_type": "markdown",
      "metadata": {
        "id": "9fd4cae5"
      },
      "source": [
        "Let's compare the zero-shot and few-shot approaches for creating a function to count vowels in a string.\n",
        "\n",
        "**Zero-Shot Prompting:**\n",
        "\n",
        "In this approach, we simply asked the AI to write a function that counts vowels without providing any examples. The AI generated the `count_vowels_zero_shot` function.\n",
        "\n",
        "**Few-Shot Prompting:**\n",
        "\n",
        "In this approach, we provided a few examples of input strings and their expected vowel counts. The AI generated the `count_vowels_few_shot` function.\n",
        "\n",
        "**Code Explanation:**\n",
        "\n",
        "Both `count_vowels_zero_shot` and `count_vowels_few_shot` functions work in the same way:\n",
        "\n",
        "1.  They define a string `vowels` containing all lowercase and uppercase vowels.\n",
        "2.  They initialize a `count` variable to 0.\n",
        "3.  They iterate through each character in the input `text`.\n",
        "4.  For each character, they check if it is present in the `vowels` string.\n",
        "5.   If it is a vowel, they increment the `count`.\n",
        "6.  Finally, they return the total `count`.\n",
        "\n",
        "**Comparison:**\n",
        "\n",
        "In this specific case, both the zero-shot and few-shot prompts resulted in essentially the same correct code. This is because counting vowels is a relatively straightforward task that large language models are well-equipped to handle even without examples.\n",
        "\n",
        "However, for more complex or nuanced tasks, providing examples (few-shot) can significantly improve the quality and relevance of the generated code by guiding the model towards the desired output format and logic. Zero-shot prompting is useful for quick generation of code for simple tasks, while few-shot prompting can be more effective for achieving specific or complex outcomes."
      ]
    },
    {
      "cell_type": "code",
      "source": [
        "Use few-shot prompting to generate a function that reads a .txt file and returns the\n",
        "number of lines"
      ],
      "metadata": {
        "id": "TwnbSoco3-BT"
      },
      "execution_count": null,
      "outputs": []
    },
    {
      "cell_type": "code",
      "metadata": {
        "id": "a9f7eb2c"
      },
      "source": [
        "# Few-shot: Provide 2-3 examples to generate a function that reads a .txt file and returns the number of lines\n",
        "# Example 1: If a file \"example1.txt\" contains:\n",
        "# Hello\n",
        "# World\n",
        "# The function should return 2\n",
        "\n",
        "# Example 2: If a file \"example2.txt\" contains:\n",
        "# This is the first line.\n",
        "# This is the second line.\n",
        "# This is the third line.\n",
        "# The function should return 3\n",
        "\n",
        "def count_lines_in_file(filename):\n",
        "  \"\"\"Reads a text file and returns the number of lines.\n",
        "\n",
        "  Args:\n",
        "    filename: The path to the text file.\n",
        "\n",
        "  Returns:\n",
        "    The number of lines in the file. Returns 0 if the file does not exist or is empty.\n",
        "  \"\"\"\n",
        "  try:\n",
        "    with open(filename, 'r') as f:\n",
        "      lines = f.readlines()\n",
        "      return len(lines)\n",
        "  except FileNotFoundError:\n",
        "    print(f\"Error: File '{filename}' not found.\")\n",
        "    return 0\n",
        "  except Exception as e:\n",
        "    print(f\"An error occurred: {e}\")\n",
        "    return 0\n",
        "\n",
        "# To test this function, you would need to create some dummy text files first.\n",
        "# For example:\n",
        "# with open('example1.txt', 'w') as f:\n",
        "#   f.write('Hello\\nWorld\\n')\n",
        "# with open('example2.txt', 'w') as f:\n",
        "#   f.write('This is the first line.\\nThis is the second line.\\nThis is the third line.\\n')\n",
        "\n",
        "# Then you can call the function:\n",
        "# print(f\"Number of lines in example1.txt: {count_lines_in_file('example1.txt')}\")\n",
        "# print(f\"Number of lines in example2.txt: {count_lines_in_file('example2.txt')}\")\n",
        "# print(f\"Number of lines in non_existent_file.txt: {count_lines_in_file('non_existent_file.txt')}\")"
      ],
      "execution_count": 6,
      "outputs": []
    },
    {
      "cell_type": "markdown",
      "metadata": {
        "id": "f9920f40"
      },
      "source": [
        "The code defines a function `count_lines_in_file` that takes a filename as input and returns the number of lines in that file.\n",
        "\n",
        "Here's how the logic works:\n",
        "\n",
        "1.  **Error Handling:** It uses a `try...except` block to handle potential errors, specifically `FileNotFoundError` if the specified file doesn't exist and a general `Exception` for any other errors during file processing.\n",
        "2.  **File Opening:** It opens the file in read mode (`'r'`) using a `with` statement, which ensures the file is automatically closed even if errors occur.\n",
        "3.  **Reading Lines:** `f.readlines()` reads all the lines from the file and returns them as a list of strings, where each string is a line from the file (including the newline character at the end).\n",
        "4.  **Counting Lines:** `len(lines)` calculates the number of elements in the list of lines, which corresponds to the total number of lines in the file.\n",
        "5.  **Return Value:** The function returns the calculated number of lines. In case of a `FileNotFoundError` or any other exception, it prints an error message and returns 0.\n",
        "6.  **Examples (Commented Out):** The code includes commented-out examples showing how to create dummy text files and how to call the `count_lines_in_file` function to test it."
      ]
    }
  ]
}